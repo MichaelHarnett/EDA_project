{
 "cells": [
  {
   "cell_type": "markdown",
   "metadata": {},
   "source": []
  },
  {
   "cell_type": "markdown",
   "metadata": {},
   "source": []
  },
  {
   "cell_type": "markdown",
   "metadata": {},
   "source": [
    "# Exploratory Data Analysis of MTA Data\n",
    "Michael Harnett"
   ]
  },
  {
   "cell_type": "markdown",
   "metadata": {},
   "source": [
    "## Proposal\n",
    "\n",
    "The goal of this analysis was to identify luls in traffic for the purposes of replacing turnstiles with updated models. Ideally, all turnstiles will be replaced with minimal impact on the daily commutes of riders. Analysis was done on the available data from 2019 to get a more realistic view of traffic before the current pandemic."
   ]
  },
  {
   "cell_type": "markdown",
   "metadata": {},
   "source": [
    "## Design\n",
    "\n",
    "After Cleaning and Organizing the data into a more readable format, monthly totals were calculated for the 2019 calander year. Simple graphing of the overall average, by month, allowed an understanding of general traffic patterns for the city. The same graph was recreated using only the highest and lowest stations "
   ]
  },
  {
   "cell_type": "markdown",
   "metadata": {},
   "source": [
    "## Data\n",
    "\n",
    "The datat used for this project was obtained from the publicly avialable MTA data on <http://web.mta.info/developers/turnstile.html>. The data sampled for this project was the first week listed for every month fo 2019 in attempts to understand traffic for a pre-pandemic landscape. Afther proper coalating, January first 2019 was chosen as the initial cumulative totals, then totals for the end of every month were collected to attain monthly totals. "
   ]
  },
  {
   "cell_type": "markdown",
   "metadata": {},
   "source": [
    "## Algorithms\n",
    "\n",
    "Several Learned algorithms were used for the purpose of this project. A lot of wasted time was spent on searcing datetime indexing with the 'resample' method, in conjunction with other pandas datetime methods. A considerable amount of time was also spent creating a proper pivot table, showing each individual turnstile in its own row, followed by several merged columns showing new entries and exits by month.\n",
    "Seaborn was used for initial plotting, as the autmatic averaging of values allowed easy yet informative understandings of general traffic for large scale perameters"
   ]
  },
  {
   "cell_type": "markdown",
   "metadata": {},
   "source": [
    "## Tools\n",
    "\n",
    "Initial pulling of data was done with SQLite\n",
    "After the data was coalated into a dataframe, it was imported into python.\n",
    "intermediate analysis was performed in python, to group, sort, and total the data in a way that applies to the proposal, \n",
    "Matplotlib, and, more specically, seaborn, was used to visualize the data to articulate the findings"
   ]
  },
  {
   "cell_type": "code",
   "execution_count": null,
   "metadata": {},
   "outputs": [],
   "source": []
  }
 ],
 "metadata": {
  "kernelspec": {
   "display_name": "Python 3",
   "language": "python",
   "name": "python3"
  },
  "language_info": {
   "codemirror_mode": {
    "name": "ipython",
    "version": 3
   },
   "file_extension": ".py",
   "mimetype": "text/x-python",
   "name": "python",
   "nbconvert_exporter": "python",
   "pygments_lexer": "ipython3",
   "version": "3.8.5"
  }
 },
 "nbformat": 4,
 "nbformat_minor": 4
}
